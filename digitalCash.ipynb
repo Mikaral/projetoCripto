{
  "cells": [
    {
      "cell_type": "markdown",
      "metadata": {
        "id": "view-in-github",
        "colab_type": "text"
      },
      "source": [
        "<a href=\"https://colab.research.google.com/github/Mikaral/projetoCripto/blob/main/digitalCash.ipynb\" target=\"_parent\"><img src=\"https://colab.research.google.com/assets/colab-badge.svg\" alt=\"Open In Colab\"/></a>"
      ]
    },
    {
      "cell_type": "code",
      "source": [
        "pip install pycryptodome"
      ],
      "metadata": {
        "colab": {
          "base_uri": "https://localhost:8080/"
        },
        "id": "3-9ChYHdCwp7",
        "outputId": "7d834261-5bf1-4908-828d-7649cae6ef0c"
      },
      "execution_count": 1,
      "outputs": [
        {
          "output_type": "stream",
          "name": "stdout",
          "text": [
            "Looking in indexes: https://pypi.org/simple, https://us-python.pkg.dev/colab-wheels/public/simple/\n",
            "Collecting pycryptodome\n",
            "  Downloading pycryptodome-3.15.0-cp35-abi3-manylinux2010_x86_64.whl (2.3 MB)\n",
            "\u001b[K     |████████████████████████████████| 2.3 MB 5.3 MB/s \n",
            "\u001b[?25hInstalling collected packages: pycryptodome\n",
            "Successfully installed pycryptodome-3.15.0\n"
          ]
        }
      ]
    },
    {
      "cell_type": "code",
      "execution_count": 2,
      "metadata": {
        "id": "7Le8zbmlnmsw"
      },
      "outputs": [],
      "source": [
        "import rsa\n",
        "import random\n",
        "from binascii import hexlify, unhexlify\n",
        "from Crypto.Cipher import AES\n",
        "from Crypto.Random import get_random_bytes\n",
        "from Crypto.Protocol.SecretSharing import Shamir\n",
        "from Crypto.Signature import pss\n",
        "from Crypto.Hash import SHA256\n",
        "from Crypto.PublicKey import RSA\n",
        "from Crypto import Random"
      ]
    },
    {
      "cell_type": "code",
      "source": [
        "def generate_keys():\n",
        "    (pubKey, privKey) = rsa.newkeys(1024)\n",
        "    with open('keys/pubkey.pem', 'wb') as f:\n",
        "        f.write(pubKey.save_pkcs1('PEM'))\n",
        "        f.close()\n",
        "\n",
        "    with open('keys/privkey.pem', 'wb') as f:\n",
        "        f.write(privKey.save_pkcs1('PEM'))\n",
        "        f.close()"
      ],
      "metadata": {
        "id": "EU7FJt0xH_rO"
      },
      "execution_count": 3,
      "outputs": []
    },
    {
      "cell_type": "code",
      "source": [
        "def load_keys():\n",
        "    with open('keys/pubkey.pem', 'rb') as f:\n",
        "        pubKey = rsa.PublicKey.load_pkcs1(f.read())\n",
        "\n",
        "    with open('keys/privkey.pem', 'rb') as f:\n",
        "        privKey = rsa.PrivateKey.load_pkcs1(f.read())\n",
        "\n",
        "    return pubKey, privKey"
      ],
      "metadata": {
        "id": "VBTzwIDWIAjh"
      },
      "execution_count": 4,
      "outputs": []
    },
    {
      "cell_type": "code",
      "source": [
        "def sign_sha1(msg, key):\n",
        "    return rsa.sign(msg.encode('ascii'), key, 'SHA-1')"
      ],
      "metadata": {
        "id": "VdkJgiQgHca6"
      },
      "execution_count": 5,
      "outputs": []
    },
    {
      "cell_type": "code",
      "source": [
        "def verify_sha1(msg, signature, key):\n",
        "    try:\n",
        "        return rsa.verify(msg.encode('ascii'), signature, key) == 'SHA-1'\n",
        "    except:\n",
        "        return False"
      ],
      "metadata": {
        "id": "0NQ-FCNKHd-9"
      },
      "execution_count": 6,
      "outputs": []
    },
    {
      "cell_type": "code",
      "execution_count": 7,
      "metadata": {
        "id": "-ZzgS0yXyOCF"
      },
      "outputs": [],
      "source": [
        "bancoDados = {}"
      ]
    },
    {
      "cell_type": "code",
      "execution_count": 8,
      "metadata": {
        "id": "XfkNL82npTgA"
      },
      "outputs": [],
      "source": [
        "def criarOrdemPagamento(hash, stringIdentidade, preco):\n",
        "  return [hash, stringIdentidade, preco, '', '']"
      ]
    },
    {
      "cell_type": "code",
      "execution_count": 9,
      "metadata": {
        "id": "kVQ5JyE4wPux"
      },
      "outputs": [],
      "source": [
        "alice = [10000, 1234, \"8/23\"]\n",
        "bob = [20000, 9876, \"8/25\"]"
      ]
    },
    {
      "cell_type": "code",
      "execution_count": 10,
      "metadata": {
        "id": "jn1NB__DBo9S"
      },
      "outputs": [],
      "source": [
        "def getHash():\n",
        "    return SHA256.new(data=b'teste')"
      ]
    },
    {
      "cell_type": "code",
      "execution_count": 11,
      "metadata": {
        "id": "yyFgGL0nru0O"
      },
      "outputs": [],
      "source": [
        "ordem1 = criarOrdemPagamento(b'123','Alice',150)\n",
        "ordem2 = criarOrdemPagamento(b'123','bob',100)"
      ]
    },
    {
      "cell_type": "code",
      "execution_count": 12,
      "metadata": {
        "id": "PbRPdMw5r_Id"
      },
      "outputs": [],
      "source": [
        "def verificarAutenticidadeOrdem(ordem1, ordem2):\n",
        "  return ordem1[0] == ordem2[0]"
      ]
    },
    {
      "cell_type": "code",
      "source": [
        "assinaturaOficial = \"MikaelSilas\""
      ],
      "metadata": {
        "id": "HFC_MVIWLFJh"
      },
      "execution_count": 13,
      "outputs": []
    },
    {
      "cell_type": "code",
      "source": [
        "assinaturaFalsa = \"Ewerton\""
      ],
      "metadata": {
        "id": "TIXkZNhkLKOl"
      },
      "execution_count": 14,
      "outputs": []
    },
    {
      "cell_type": "code",
      "source": [
        "def assinarPacote(ordem1, ordem2, privKey):\n",
        "  if(verificarAutenticidadeOrdem(ordem1, ordem2)):\n",
        "    signature = sign_sha1(assinaturaOficial, privKey)\n",
        "    ordem1[3] = signature\n",
        "    bancoDados[ordem1[1]] = 0\n",
        "  else:\n",
        "    print(\"As ordens pedem um valor diferente\")"
      ],
      "metadata": {
        "id": "sUAYM-AOKoq1"
      },
      "execution_count": 15,
      "outputs": []
    },
    {
      "cell_type": "code",
      "source": [
        "def autenticarPacote(ordem, assinatura, pubKey):\n",
        "   if(verify_sha1(assinatura, ordem[3], pubKey)):\n",
        "     print(\"O pacote é autentico\")\n",
        "   else:\n",
        "     print(\"O pacote não tem uma assinatura genuíuna\")"
      ],
      "metadata": {
        "id": "QPdFsYJ1LbLd"
      },
      "execution_count": 16,
      "outputs": []
    },
    {
      "cell_type": "code",
      "execution_count": 17,
      "metadata": {
        "id": "-djcKOleuKYU"
      },
      "outputs": [],
      "source": [
        "def gastarDinheiro(ordem, stringId):\n",
        "  if (bancoDados[ordem[1]] == 0):\n",
        "    bob[0] += ordem[2]\n",
        "    bancoDados[ordem[1]] = 1\n",
        "    ordem[4] = stringId\n",
        "    bancoDados[ordem[4]] = 1\n",
        "    alice[0] -= ordem1[2]\n",
        "    print(\"Pagamento concluído com Sucesso!\")\n",
        "  else:\n",
        "    print(\"O pacote já foi gasto anteriormente\") \n",
        "    if(ordem[4] in bancoDados.keys()):\n",
        "      print(\"Bob está agindo por má fé\")\n",
        "    else:\n",
        "      print(\"Alice está agindo por má fé\")"
      ]
    },
    {
      "cell_type": "markdown",
      "metadata": {
        "id": "Pm18siEsBo9Y"
      },
      "source": [
        "Caso 01: Transferência ideal de Alice para Bob"
      ]
    },
    {
      "cell_type": "markdown",
      "metadata": {
        "id": "xIxpsKEtBo9Z"
      },
      "source": [
        "Caso 02: Alice ou Bob falsificaram a assinatura do banco\n",
        "\n"
      ]
    },
    {
      "cell_type": "markdown",
      "source": [
        "Caso 03: Bob tenta gastar o mesmo pacote mais de uma vez"
      ],
      "metadata": {
        "id": "f-55WaU3auTk"
      }
    },
    {
      "cell_type": "markdown",
      "source": [
        "Caso 04: Alice tenta gastar o mesmo pacote mais de uma vez"
      ],
      "metadata": {
        "id": "w-vLlGeya2BF"
      }
    },
    {
      "cell_type": "markdown",
      "source": [
        "Caso 05: Alice tenta mandar ordens de diferentes quantias"
      ],
      "metadata": {
        "id": "nbUrLM4da7_o"
      }
    },
    {
      "cell_type": "code",
      "source": [
        "resposta = -1\n",
        "\n",
        "while(resposta != 0):\n",
        "  print('Cliente: Alice. ${}\\nComerciante: Bob. ${}\\n'.format(alice[0], bob[0]))\n",
        "  print('0) Fechar Programa\\n1) Realizar transferência\\n2) Induzir erro')\n",
        "\n",
        "  resposta = int(input('>'))\n",
        "  if(resposta == 1):\n",
        "    # Criar a ordem de pagamento\n",
        "    print('Criando a ordem de pagamento para Alice ...')\n",
        "    ordem1 = criarOrdemPagamento(b'000', 'Alice', 150)\n",
        "    ordem2 = criarOrdemPagamento(b'000', 'Alice', 100)\n",
        "    \n",
        "    # Gerando e importando chaves\n",
        "    generate_keys()\n",
        "    pubKey, privKey = load_keys()\n",
        "    \n",
        "    # Assinando e autenticando a ordem\n",
        "    assinarPacote(ordem1, ordem2, privKey)\n",
        "    autenticarPacote(ordem1, assinaturaOficial, pubKey)\n",
        "\n",
        "    # Gastando dinheiro\n",
        "    gastarDinheiro(ordem1, random.randint(0, 100000))\n",
        "  if(resposta == 2):\n",
        "    print(\"1) Alice ou Bob falsificaram a assinatura do banco\")\n",
        "    print(\"2) Bob tenta gastar o mesmo pacote mais de uma vez\")\n",
        "    print(\"3) Alice tenta gastar o mesmo pacote mais de uma vez\")\n",
        "    print(\"4) Alice tenta mandar ordens de diferentes quantias\")\n",
        "    opcao = int(input('> '))\n",
        "    if(opcao == 1):\n",
        "      # Criar a ordem de pagamento\n",
        "      print('Criando a ordem de pagamento para Alice ...')\n",
        "      ordem1 = criarOrdemPagamento(b'000', 'Alice', 150)\n",
        "      ordem2 = criarOrdemPagamento(b'000', 'Alice', 100)\n",
        "      \n",
        "      # Gerando e importando chaves\n",
        "      generate_keys()\n",
        "      pubKey, privKey = load_keys()\n",
        "      \n",
        "      # Assinando e autenticando a ordem\n",
        "      assinarPacote(ordem1, ordem2, privKey)\n",
        "      autenticarPacote(ordem1, assinaturaFalsa, pubKey)\n",
        "    if(opcao == 2):\n",
        "      # Criar a ordem de pagamento\n",
        "      print('Criando a ordem de pagamento para Alice ...')\n",
        "      ordem1 = criarOrdemPagamento(b'000', 'Alice', 150)\n",
        "      ordem2 = criarOrdemPagamento(b'000', 'Alice', 100)\n",
        "      \n",
        "      # Gerando e importando chaves\n",
        "      generate_keys()\n",
        "      pubKey, privKey = load_keys()\n",
        "      \n",
        "      # Assinando e autenticando a ordem\n",
        "      assinarPacote(ordem1, ordem2, privKey)\n",
        "      autenticarPacote(ordem1, assinaturaOficial, pubKey)\n",
        "\n",
        "      # Alice tenta usar o mesmo pagamento duas vezes\n",
        "      stringId = random.randint(0, 100000)\n",
        "      ordem1[4] = stringId\n",
        "      bancoDados[stringId] = 1\n",
        "      bancoDados[ordem1[1]] = 1\n",
        "      gastarDinheiro(ordem1, stringId)\n",
        "    if(opcao == 3):\n",
        "      # Criar a ordem de pagamento\n",
        "      print('Criando a ordem de pagamento para Alice ...')\n",
        "      ordem1 = criarOrdemPagamento(b'000', 'Alice', 150)\n",
        "      ordem2 = criarOrdemPagamento(b'000', 'Alice', 100)\n",
        "      \n",
        "      # Gerando e importando chaves\n",
        "      generate_keys()\n",
        "      pubKey, privKey = load_keys()\n",
        "      \n",
        "      # Assinando e autenticando a ordem\n",
        "      assinarPacote(ordem1, ordem2, privKey)\n",
        "      autenticarPacote(ordem1, assinaturaOficial, pubKey)\n",
        "\n",
        "      # Alice tenta usar o mesmo pagamento duas vezes\n",
        "      stringId = random.randint(0, 100000)\n",
        "      bancoDados[ordem1[1]] = 1\n",
        "      gastarDinheiro(ordem1, stringId)\n",
        "    if(opcao == 4):\n",
        "      # Criar a ordem de pagamento\n",
        "      print('Criando a ordem de pagamento para Alice ...')\n",
        "      ordem1 = criarOrdemPagamento(b'001', 'Alice', 150)\n",
        "      ordem2 = criarOrdemPagamento(b'000', 'Alice', 100)\n",
        "      \n",
        "      # Gerando e importando chaves\n",
        "      generate_keys()\n",
        "      pubKey, privKey = load_keys()\n",
        "      \n",
        "      # Assinando e autenticando a ordem\n",
        "      assinarPacote(ordem1, ordem2, privKey)"
      ],
      "metadata": {
        "colab": {
          "base_uri": "https://localhost:8080/"
        },
        "id": "GTXxB7JwYrwk",
        "outputId": "07f3782d-59a4-40e9-d0ef-cee7ae801f66"
      },
      "execution_count": 18,
      "outputs": [
        {
          "name": "stdout",
          "output_type": "stream",
          "text": [
            "Cliente: Alice. $10000\n",
            "Comerciante: Bob. $20000\n",
            "\n",
            "0) Fechar Programa\n",
            "1) Realizar transferência\n",
            "2) Induzir erro\n",
            ">0\n"
          ]
        }
      ]
    }
  ],
  "metadata": {
    "colab": {
      "collapsed_sections": [],
      "name": "digitalCash.ipynb",
      "provenance": [],
      "include_colab_link": true
    },
    "kernelspec": {
      "display_name": "Python 3.9.9 64-bit (system)",
      "language": "python",
      "name": "python3"
    },
    "language_info": {
      "codemirror_mode": {
        "name": "ipython",
        "version": 3
      },
      "file_extension": ".py",
      "mimetype": "text/x-python",
      "name": "python",
      "nbconvert_exporter": "python",
      "pygments_lexer": "ipython3",
      "version": "3.9.9"
    },
    "vscode": {
      "interpreter": {
        "hash": "9d5b6e03d6ac79a37ef7da211c0e283cea2ee331edb1c9b7aa89f897c687f1b0"
      }
    }
  },
  "nbformat": 4,
  "nbformat_minor": 0
}